{
 "cells": [
  {
   "cell_type": "code",
   "source": "!pip install pandas numpy matplotlib neuralprophet scikit-learn",
   "metadata": {
    "datalore": {
     "node_id": "4iWYhSPSltYN5KOVFcMide",
     "type": "CODE",
     "hide_input_from_viewers": true,
     "hide_output_from_viewers": true
    }
   },
   "outputs": [],
   "execution_count": null
  },
  {
   "cell_type": "code",
   "source": [
    "import pandas as pd\n",
    "import numpy as np\n",
    "import matplotlib.pyplot as plt\n",
    "\n",
    "from neuralprophet import NeuralProphet"
   ],
   "metadata": {
    "datalore": {
     "node_id": "2m9L7CkqSNGT412wpc7jxn",
     "type": "CODE",
     "hide_input_from_viewers": false,
     "hide_output_from_viewers": false,
     "report_properties": {
      "rowId": "l7s3Q6CMalpPHsde4y2uAb"
     }
    }
   },
   "outputs": [],
   "execution_count": null
  },
  {
   "cell_type": "code",
   "source": [
    "import os\n",
    "\n",
    "dir = './input/'\n",
    "\n",
    "# Get a list of all files in the 'input' directory\n",
    "files = os.listdir(dir)\n",
    "\n",
    "# Print the list of files\n",
    "for file in files:\n",
    "    print(file)"
   ],
   "metadata": {
    "datalore": {
     "node_id": "eskIpXHQswzwouon26bbHT",
     "type": "CODE",
     "hide_input_from_viewers": false,
     "hide_output_from_viewers": false,
     "report_properties": {
      "rowId": "wjQPE9COJPib8wFH1erUIc"
     }
    }
   },
   "outputs": [],
   "execution_count": null
  },
  {
   "cell_type": "code",
   "source": [
    "# Initialize an empty list to store the dataframes\n",
    "df_list = []\n",
    "\n",
    "# Loop over the years 1997 to 2024\n",
    "for file in files:\n",
    "    # Read the CSV file for the current year\n",
    "    df = pd.read_csv(dir + file, encoding='CP949')\n",
    "\n",
    "    # Select and rename columns\n",
    "    df = df[['일시', '평균기온(°C)']].rename(columns={'일시': 'date', '평균기온(°C)': 'temperature'})\n",
    "\n",
    "    # Convert 'date' to datetime format and extract year, month, and day\n",
    "    df['date'] = pd.to_datetime(df['date'])\n",
    "    df['year'] = df['date'].dt.year\n",
    "    df['month'] = df['date'].dt.month\n",
    "    df['day'] = df['date'].dt.day\n",
    "\n",
    "    # Select the final columns and append the dataframe to the list\n",
    "    df = df[['date', 'year', 'month', 'day', 'temperature']]\n",
    "    df_list.append(df)\n",
    "\n",
    "# Concatenate all the dataframes in the list into a single dataframe\n",
    "df = pd.concat(df_list, ignore_index=True)\n",
    "df"
   ],
   "metadata": {
    "datalore": {
     "node_id": "0YNzVPkNfKlE3Icz3NkghG",
     "type": "CODE",
     "hide_input_from_viewers": false,
     "hide_output_from_viewers": false,
     "report_properties": {
      "rowId": "TvgXNyMO8u0BVxYX93CO7J"
     }
    }
   },
   "outputs": [],
   "execution_count": null
  },
  {
   "cell_type": "code",
   "source": [
    "# Split the data into training and test sets based on the year\n",
    "df_train = df[df['year'] <= 2022][['date', 'temperature']].rename(\n",
    "    columns={'date': 'ds', 'temperature': 'y'}).reset_index(drop=True)\n",
    "df_test = df[df['year'] >= 2023][['date', 'temperature']].rename(\n",
    "    columns={'date': 'ds', 'temperature': 'y'}).reset_index(drop=True)\n",
    "\n",
    "df_test.tail()"
   ],
   "metadata": {
    "datalore": {
     "node_id": "1bFBLB2v182vb5rHzpGXbZ",
     "type": "CODE",
     "hide_input_from_viewers": false,
     "hide_output_from_viewers": false,
     "report_properties": {
      "rowId": "l4l8YLWmfFsbp0UE4bOq4F"
     }
    }
   },
   "outputs": [],
   "execution_count": null
  },
  {
   "cell_type": "code",
   "source": [
    "# Initialize the Prophet model for temperature forecasting\n",
    "model = NeuralProphet(\n",
    "\tgrowth='off',\n",
    "\tyearly_seasonality=True,\n",
    "    \tweekly_seasonality=False,\n",
    "\tdaily_seasonality=False,\n",
    "    \tepochs=100,\n",
    "\tlearning_rate=0.1\n",
    ")\n",
    "\n",
    "\n",
    "metrics = model.fit(df_test, freq='D', validation_df=df_test, progress='plot')\n",
    "\n",
    "future = model.make_future_dataframe(df_test, periods=365)\n",
    "pred = model.predict(future)"
   ],
   "metadata": {
    "datalore": {
     "node_id": "6Q5gWwZURV8FpfVRkbM0of",
     "type": "CODE",
     "hide_input_from_viewers": false,
     "hide_output_from_viewers": false,
     "report_properties": {
      "rowId": "bw8Kvv9m7zlULshHILbXSA"
     }
    }
   },
   "outputs": [],
   "execution_count": null
  },
  {
   "cell_type": "code",
   "source": [
    "#yhat1과 실제값 시각화\n",
    "forecast = model.predict(df_test)\n",
    "fig = model.plot(forecast[['ds', 'y', 'yhat1']])\n",
    "fig.show()"
   ],
   "metadata": {
    "datalore": {
     "node_id": "IbQeyLdrr0KYQVcXZ24EnQ",
     "type": "CODE",
     "hide_input_from_viewers": true,
     "hide_output_from_viewers": true
    }
   },
   "outputs": [],
   "execution_count": null
  },
  {
   "metadata": {},
   "cell_type": "code",
   "source": [
    "forecast = model.predict(df_test)\n",
    "model = model.highlight_nth_step_ahead_of_each_forecast(1)\n",
    "fig = m.plot(forecast[-3*24:]) #3일간 데이터 확인\n",
    "fig.show()"
   ],
   "outputs": [],
   "execution_count": null
  },
  {
   "metadata": {},
   "cell_type": "code",
   "source": [
    "fig_param = m.plot_parameters()\n",
    "fig_param.show()"
   ],
   "outputs": [],
   "execution_count": null
  },
  {
   "cell_type": "code",
   "source": [
    "# Plot the forecast with test data\n",
    "plt.figure(figsize=(10, 6), dpi=100)\n",
    "plt.plot(df_test['y'].reset_index(drop=True), c='r')\n",
    "plt.plot(forecast['yhat'][-len(df_test):].reset_index(drop=True), c='b')\n",
    "plt.show()"
   ],
   "metadata": {
    "datalore": {
     "node_id": "bmHTHANrYWiK9NpJgVLRBi",
     "type": "CODE",
     "hide_input_from_viewers": true,
     "hide_output_from_viewers": true
    }
   },
   "outputs": [],
   "execution_count": null
  },
  {
   "cell_type": "code",
   "source": [
    "from scipy.stats import pearsonr\n",
    "\n",
    "# Calculate the Pearson correlation coefficient and the p-value\n",
    "r, p = pearsonr(df_test['y'], forecast['yhat1'][-len(df_test):])\n",
    "\n",
    "print(f'Pearson correlation: {r}')\n",
    "print(f'p-value: {p}')"
   ],
   "metadata": {
    "datalore": {
     "node_id": "pwnlyI1TVakMYF2srjhfkF",
     "type": "CODE",
     "hide_input_from_viewers": true,
     "hide_output_from_viewers": true
    }
   },
   "outputs": [],
   "execution_count": null
  },
  {
   "metadata": {},
   "cell_type": "code",
   "source": [
    "from sklearn.metrics import mean_squared_error\n",
    "\n",
    "# Calculate the mean squared error\n",
    "mse = mean_squared_error(df_test['y'], forecast['yhat'][-len(df_test):])\n",
    "\n",
    "# Print the mean squared error\n",
    "print('Mean Squared Error:', mse)\n"
   ],
   "outputs": [],
   "execution_count": null
  }
 ],
 "metadata": {
  "kernelspec": {
   "display_name": "Python 3 (ipykernel)",
   "language": "python",
   "name": "python3"
  },
  "datalore": {
   "computation_mode": "JUPYTER",
   "package_manager": "pip",
   "base_environment": "default",
   "packages": [],
   "report_row_ids": [
    "l7s3Q6CMalpPHsde4y2uAb",
    "wjQPE9COJPib8wFH1erUIc",
    "TvgXNyMO8u0BVxYX93CO7J",
    "My3dn28IZIfmioJ0tKimuG",
    "9HKzo1VdD6TFH5wd5cp1zS",
    "0lxvvuoH4gyOlRtqSE4S7P",
    "l4l8YLWmfFsbp0UE4bOq4F",
    "bw8Kvv9m7zlULshHILbXSA",
    "rNj3E7lhZFWKwyATfLtJCH"
   ],
   "version": 3
  }
 },
 "nbformat": 4,
 "nbformat_minor": 4
}
